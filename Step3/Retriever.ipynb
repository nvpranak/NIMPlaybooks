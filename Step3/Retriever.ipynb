{
 "cells": [
  {
   "cell_type": "markdown",
   "id": "3950d644-5adf-45d9-bd6b-c12617fa6411",
   "metadata": {},
   "source": [
    "## Configure NGC using the cli"
   ]
  },
  {
   "cell_type": "markdown",
   "id": "9f2ea5cf-dd5a-42d4-ac01-db9e17a331b3",
   "metadata": {},
   "source": [
    "### Step 1: Download and install the CLI\n",
    "You can follow these steps and setup an API key.\n",
    "\n",
    "\n",
    "Installing the NGC CLI\n",
    "Navigate to https://catalog.ngc.nvidia.com/orgs/nvidia/teams/ngc-apps/resources/ngc_cli.\n",
    "\n",
    "Select Download.\n",
    "\n",
    "Select one of the download methods.\n",
    "\n",
    "If you select Browser (Direct Download) or WGET, the appropriate command is copied to the clipboard. Use that command to install the ngc cli.\n",
    "\n",
    "If you select CLI, a zip file is downloaded. Unzip the contents of the zip file and add the appropriate executable to your path."
   ]
  },
  {
   "cell_type": "markdown",
   "id": "0ee0b066-e0d9-417d-b350-245ad3327a1b",
   "metadata": {},
   "source": [
    "### Step 2: Configure an API key.\n",
    "\n",
    "```\n",
    "ngc config set\n",
    "Enter API key [********************************************************************************MzFh]. Choices: [<VALID_APIKEY>, 'no-apikey']:\n",
    "Enter org:\n",
    "Enter team:\n",
    "Enter ace [no-ace]:\n",
    "Successfully saved NGC configuration to /home/<user>/.ngc/config\n",
    "```\n"
   ]
  },
  {
   "cell_type": "markdown",
   "id": "bb784ace-a40c-4bc9-9d67-cbca0293838d",
   "metadata": {},
   "source": [
    "## Follow the instructions from the following reference\n",
    "\n",
    "https://developer.nvidia.com/docs/nemo-microservices/retriever/getting-started.html"
   ]
  },
  {
   "cell_type": "markdown",
   "id": "23cf8e10-b276-4694-99c0-82e446445a9d",
   "metadata": {},
   "source": [
    "##### Step 1: \n",
    "\n",
    "Running NeMo Retriever\n",
    "The easiest starting point for NeMo Retriever is to download the docker compose library from NGC: https://registry.ngc.nvidia.com/orgs/ohlfw0olaadg/teams/ea-participants/resources/nemo-retriever-docker-compose/files\n",
    "\n",
    "\n",
    "Execute the following command from the commandline:\n",
    "\n",
    "```\n",
    "ngc registry resource download-version \"ohlfw0olaadg/ea-participants/nemo-retriever-docker-compose:1.0.0\"\n",
    "```"
   ]
  },
  {
   "cell_type": "markdown",
   "id": "039962c2-092b-44a3-9a92-a4846761c1bc",
   "metadata": {},
   "source": [
    "#### Step 2:\n",
    "Change to the above directory.\n",
    "\n",
    "**Download models**\n",
    "The expected models can be seen in the command’s of the ```docker-compose-ea.yaml``` services. We require two models to run this example, an embedding model and reranking model. The state of the art NVIDIA Retrieval QA Embedding model and QA Reranking model.\n",
    "\n",
    "\n",
    "```ngc registry model download-version --dest models \"ohlfw0olaadg/ea-participants/nv-embed-qa:4\"```\n",
    "\n",
    "```ngc registry model download-version --dest models \"ohlfw0olaadg/ea-participants/nv-rerank-qa-mistral-4b:1_A100\"```\n",
    "\n",
    "```chmod -R o+rX models # updating read permissions to ensure container can read mounted models directory```"
   ]
  },
  {
   "cell_type": "markdown",
   "id": "ce986974-b649-432e-b94c-d5ed72dafd18",
   "metadata": {},
   "source": [
    "### Step 3\n",
    "\n",
    "**Start the sevices**\n",
    "\n",
    "```docker compose -f docker-compose-ea.yaml up```\n",
    "\n",
    "This will run all of the services locally needed to exercise Retriever."
   ]
  },
  {
   "cell_type": "code",
   "execution_count": null,
   "id": "4a87a076-cd15-434e-bcd2-0634536138fc",
   "metadata": {},
   "outputs": [],
   "source": []
  }
 ],
 "metadata": {
  "kernelspec": {
   "display_name": "Python 3 (ipykernel)",
   "language": "python",
   "name": "python3"
  },
  "language_info": {
   "codemirror_mode": {
    "name": "ipython",
    "version": 3
   },
   "file_extension": ".py",
   "mimetype": "text/x-python",
   "name": "python",
   "nbconvert_exporter": "python",
   "pygments_lexer": "ipython3",
   "version": "3.10.14"
  }
 },
 "nbformat": 4,
 "nbformat_minor": 5
}
