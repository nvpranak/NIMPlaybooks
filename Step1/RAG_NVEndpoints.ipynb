{
 "cells": [
  {
   "cell_type": "code",
   "execution_count": 1,
   "id": "da7c3a5e-c349-41f2-93c3-bf57098e4c36",
   "metadata": {},
   "outputs": [],
   "source": [
    "import os\n",
    "import bs4\n",
    "import getpass\n",
    "from langchain import hub\n",
    "from langchain_nvidia_ai_endpoints import ChatNVIDIA\n",
    "from langchain_nvidia_ai_endpoints import NVIDIAEmbeddings\n",
    "from langchain_core.prompts import PromptTemplate\n",
    "from langchain_community.vectorstores import Chroma\n",
    "from langchain_core.runnables import RunnablePassthrough\n",
    "from langchain_core.output_parsers import StrOutputParser\n",
    "from langchain_community.document_loaders import WebBaseLoader\n",
    "from langchain_text_splitters import RecursiveCharacterTextSplitter"
   ]
  },
  {
   "cell_type": "code",
   "execution_count": 2,
   "id": "5e47711b-b0de-461a-bebc-5f1df1ab028c",
   "metadata": {},
   "outputs": [],
   "source": [
    "os.environ[\"NVIDIA_API_KEY\"] = 'nvapi-*******************************************************'"
   ]
  },
  {
   "cell_type": "markdown",
   "id": "d995c4ff-f4a0-460a-afcc-95c9d96082d6",
   "metadata": {},
   "source": [
    "## Load documents by scrpaing the web"
   ]
  },
  {
   "cell_type": "code",
   "execution_count": 3,
   "id": "9754bc07-8c16-4d4e-b022-c40a29ad8003",
   "metadata": {},
   "outputs": [],
   "source": [
    "def load_documents():\n",
    "    # Load, chunk and index the contents of the blog.\n",
    "    loader = WebBaseLoader(\n",
    "        web_paths=(\"https://lilianweng.github.io/posts/2023-06-23-agent/\",),\n",
    "        bs_kwargs=dict(\n",
    "            parse_only=bs4.SoupStrainer(\n",
    "                class_=(\"post-content\", \"post-title\", \"post-header\")\n",
    "            )\n",
    "        ),\n",
    "    )\n",
    "    docs = loader.load()\n",
    "    \n",
    "    text_splitter = RecursiveCharacterTextSplitter(chunk_size=1000, chunk_overlap=200)\n",
    "    splits = text_splitter.split_documents(docs)\n",
    "    return splits"
   ]
  },
  {
   "cell_type": "markdown",
   "id": "ec7bd096-f346-48f3-bcf9-98ed5e08f863",
   "metadata": {},
   "source": [
    "## Format docs"
   ]
  },
  {
   "cell_type": "code",
   "execution_count": 4,
   "id": "d7ae40ee-3ed4-4177-9cf1-e956369ce97b",
   "metadata": {},
   "outputs": [],
   "source": [
    "def format_docs(docs):\n",
    "    return \"\\n\\n\".join(doc.page_content for doc in docs)"
   ]
  },
  {
   "cell_type": "markdown",
   "id": "e34298b0-451e-466c-b46c-ef0e5e3e4070",
   "metadata": {},
   "source": [
    "## LLM"
   ]
  },
  {
   "cell_type": "code",
   "execution_count": 5,
   "id": "a2d5e153-a09c-4231-a04a-f3c53491f42b",
   "metadata": {},
   "outputs": [],
   "source": [
    "llm = ChatNVIDIA(model=\"mixtral_8x7b\")\n",
    "document_embedder = NVIDIAEmbeddings(model=\"nvolveqa_40k\", model_type=\"passage\")"
   ]
  },
  {
   "cell_type": "markdown",
   "id": "d4c7bb72-b5ec-4696-b2cc-6350a8b20549",
   "metadata": {},
   "source": [
    "## Vectorstore and retriever"
   ]
  },
  {
   "cell_type": "code",
   "execution_count": 6,
   "id": "f6aa19fe-f852-4222-a450-573ecd890637",
   "metadata": {},
   "outputs": [],
   "source": [
    "splits = load_documents()\n",
    "vectorstore = Chroma.from_documents(documents=splits, embedding=document_embedder)\n",
    "\n",
    "# Retrieve and generate using the relevant snippets of the blog.\n",
    "retriever = vectorstore.as_retriever()"
   ]
  },
  {
   "cell_type": "markdown",
   "id": "11b9faa0-80ac-423e-b440-0ddd1cea4f82",
   "metadata": {},
   "source": [
    "## Custom RAG prompt"
   ]
  },
  {
   "cell_type": "code",
   "execution_count": 7,
   "id": "356132af-6899-4ba5-9711-f8230bf42a88",
   "metadata": {},
   "outputs": [],
   "source": [
    "template = \"\"\"Use the following pieces of context to answer the question at the end.\n",
    "If you don't know the answer, just say that you don't know, don't try to make up an answer.\n",
    "Use three sentences maximum and keep the answer as concise as possible.\n",
    "Always say \"thanks for asking!\" at the end of the answer.\n",
    "\n",
    "{context}\n",
    "\n",
    "Question: {question}\n",
    "\n",
    "Helpful Answer:\"\"\"\n",
    "custom_rag_prompt = PromptTemplate.from_template(template)"
   ]
  },
  {
   "cell_type": "markdown",
   "id": "160d76f2-f6f5-48b7-a4ca-c2963c02ef95",
   "metadata": {},
   "source": [
    "## RAG chain"
   ]
  },
  {
   "cell_type": "code",
   "execution_count": 8,
   "id": "d85bfefb-75d0-4fb6-8acc-11d923a46365",
   "metadata": {},
   "outputs": [],
   "source": [
    "rag_chain = (\n",
    "    {\"context\": retriever | format_docs, \"question\": RunnablePassthrough()}\n",
    "    | custom_rag_prompt\n",
    "    | llm\n",
    "    | StrOutputParser()\n",
    ")"
   ]
  },
  {
   "cell_type": "code",
   "execution_count": 9,
   "id": "d6de2989-a5a1-4169-86dd-85a69a9121e1",
   "metadata": {},
   "outputs": [
    {
     "data": {
      "text/plain": [
       "'Task decomposition is a process in artificial intelligence and software engineering where a complex task is broken down into smaller, manageable subtasks. This method is used to simplify the problem-solving process and to make it easier to design, implement, and maintain software systems or agents. Thanks for asking!'"
      ]
     },
     "execution_count": 9,
     "metadata": {},
     "output_type": "execute_result"
    }
   ],
   "source": [
    "rag_chain.invoke(\"What is Task Decomposition?\")"
   ]
  },
  {
   "cell_type": "code",
   "execution_count": null,
   "id": "74f26b92-98da-4152-b69e-812d909242e0",
   "metadata": {},
   "outputs": [],
   "source": [
    "    "
   ]
  }
 ],
 "metadata": {
  "kernelspec": {
   "display_name": "Python 3 (ipykernel)",
   "language": "python",
   "name": "python3"
  },
  "language_info": {
   "codemirror_mode": {
    "name": "ipython",
    "version": 3
   },
   "file_extension": ".py",
   "mimetype": "text/x-python",
   "name": "python",
   "nbconvert_exporter": "python",
   "pygments_lexer": "ipython3",
   "version": "3.10.14"
  }
 },
 "nbformat": 4,
 "nbformat_minor": 5
}
